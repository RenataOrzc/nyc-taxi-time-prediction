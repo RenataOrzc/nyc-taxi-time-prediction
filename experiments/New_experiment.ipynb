{
 "cells": [
  {
   "cell_type": "code",
   "execution_count": 2,
   "metadata": {},
   "outputs": [],
   "source": [
    "import pickle\n",
    "import pandas as pd\n",
    "from sklearn.metrics import root_mean_squared_error\n",
    "from sklearn.feature_extraction import DictVectorizer\n",
    "from sklearn.linear_model import Lasso, Ridge, LinearRegression"
   ]
  },
  {
   "cell_type": "code",
   "execution_count": 3,
   "metadata": {},
   "outputs": [],
   "source": [
    "def read_dataframe(filename):\n",
    "\n",
    "    df = pd.read_parquet(filename)\n",
    "\n",
    "    df['duration'] = df.lpep_dropoff_datetime - df.lpep_pickup_datetime\n",
    "    df.duration = df.duration.apply(lambda td: td.total_seconds() / 60)\n",
    "\n",
    "    df = df[(df.duration >= 1) & (df.duration <= 60)]\n",
    "\n",
    "    categorical = ['PULocationID', 'DOLocationID']\n",
    "    df[categorical] = df[categorical].astype(str)\n",
    "\n",
    "    return df"
   ]
  },
  {
   "cell_type": "code",
   "execution_count": 4,
   "metadata": {},
   "outputs": [],
   "source": [
    "df_train = read_dataframe('../data/green_tripdata_2024-01.parquet')\n",
    "df_val = read_dataframe('../data/green_tripdata_2024-02.parquet')"
   ]
  },
  {
   "cell_type": "code",
   "execution_count": 5,
   "metadata": {},
   "outputs": [],
   "source": [
    "df_train['PU_DO'] = df_train['PULocationID'] + '_' + df_train['DOLocationID']\n",
    "df_val['PU_DO'] = df_val['PULocationID'] + '_' + df_val['DOLocationID']"
   ]
  },
  {
   "cell_type": "code",
   "execution_count": 6,
   "metadata": {},
   "outputs": [],
   "source": [
    "categorical = ['PU_DO']  #'PULocationID', 'DOLocationID']\n",
    "numerical = ['trip_distance']\n",
    "dv = DictVectorizer()\n",
    "\n",
    "train_dicts = df_train[categorical + numerical].to_dict(orient='records')\n",
    "X_train = dv.fit_transform(train_dicts)\n",
    "\n",
    "val_dicts = df_val[categorical + numerical].to_dict(orient='records')\n",
    "X_val = dv.transform(val_dicts)"
   ]
  },
  {
   "cell_type": "code",
   "execution_count": 7,
   "metadata": {},
   "outputs": [],
   "source": [
    "target = 'duration'\n",
    "y_train = df_train[target].values\n",
    "y_val = df_val[target].values"
   ]
  },
  {
   "cell_type": "code",
   "execution_count": 8,
   "metadata": {},
   "outputs": [
    {
     "data": {
      "text/html": [
       "<pre style=\"white-space:pre;overflow-x:auto;line-height:normal;font-family:Menlo,'DejaVu Sans Mono',consolas,'Courier New',monospace\">Accessing as RenataOrzc\n",
       "</pre>\n"
      ],
      "text/plain": [
       "Accessing as RenataOrzc\n"
      ]
     },
     "metadata": {},
     "output_type": "display_data"
    },
    {
     "data": {
      "text/html": [
       "<pre style=\"white-space:pre;overflow-x:auto;line-height:normal;font-family:Menlo,'DejaVu Sans Mono',consolas,'Courier New',monospace\">Initialized MLflow to track repo <span style=\"color: #008000; text-decoration-color: #008000\">\"RenataOrzc/nyc-taxi-time-prediction\"</span>\n",
       "</pre>\n"
      ],
      "text/plain": [
       "Initialized MLflow to track repo \u001b[32m\"RenataOrzc/nyc-taxi-time-prediction\"\u001b[0m\n"
      ]
     },
     "metadata": {},
     "output_type": "display_data"
    },
    {
     "data": {
      "text/html": [
       "<pre style=\"white-space:pre;overflow-x:auto;line-height:normal;font-family:Menlo,'DejaVu Sans Mono',consolas,'Courier New',monospace\">Repository RenataOrzc/nyc-taxi-time-prediction initialized!\n",
       "</pre>\n"
      ],
      "text/plain": [
       "Repository RenataOrzc/nyc-taxi-time-prediction initialized!\n"
      ]
     },
     "metadata": {},
     "output_type": "display_data"
    },
    {
     "name": "stdout",
     "output_type": "stream",
     "text": [
      "https://dagshub.com/RenataOrzc/nyc-taxi-time-prediction.mlflow\n"
     ]
    },
    {
     "data": {
      "text/plain": [
       "<Experiment: artifact_location='mlflow-artifacts:/5237519f0cf74c8e961551526c9bca87', creation_time=1726875667929, experiment_id='0', last_update_time=1726875667929, lifecycle_stage='active', name='nyc-taxi-experiment', tags={}>"
      ]
     },
     "execution_count": 8,
     "metadata": {},
     "output_type": "execute_result"
    }
   ],
   "source": [
    "import dagshub\n",
    "import mlflow\n",
    "\n",
    "\n",
    "dagshub.init(url=\"https://dagshub.com/RenataOrzc/nyc-taxi-time-prediction\", mlflow=True)\n",
    "\n",
    "MLFLOW_TRACKING_URI = mlflow.get_tracking_uri()\n",
    "\n",
    "print(MLFLOW_TRACKING_URI)\n",
    "\n",
    "mlflow.set_tracking_uri(MLFLOW_TRACKING_URI)\n",
    "mlflow.set_experiment(experiment_name=\"nyc-taxi-experiment\")"
   ]
  },
  {
   "cell_type": "code",
   "execution_count": 9,
   "metadata": {},
   "outputs": [],
   "source": [
    "training_dataset = mlflow.data.from_numpy(X_train.data, targets=y_train, name=\"green_tripdata_2024-01\")\n",
    "validation_dataset = mlflow.data.from_numpy(X_val.data, targets=y_val, name=\"green_tripdata_2024-02\")"
   ]
  },
  {
   "cell_type": "markdown",
   "metadata": {},
   "source": [
    "Importar las librerias necesarias"
   ]
  },
  {
   "cell_type": "code",
   "execution_count": 11,
   "metadata": {},
   "outputs": [],
   "source": [
    "from sklearn.ensemble import RandomForestRegressor\n",
    "from sklearn.metrics import mean_squared_error\n",
    "from hyperopt import fmin, tpe, hp, STATUS_OK, Trials\n",
    "import numpy as np"
   ]
  },
  {
   "cell_type": "code",
   "execution_count": 12,
   "metadata": {},
   "outputs": [],
   "source": [
    "mlflow.sklearn.autolog() \n",
    "\n",
    "def objective(params):\n",
    "    with mlflow.start_run(nested=True):\n",
    "        mlflow.set_tag(\"model_family\",\"random_forest\")\n",
    "        mlflow.log_params(params)\n",
    "\n",
    "        rf_model = RandomForestRegressor(\n",
    "            n_estimators = int(params['n_estimators']),\n",
    "            max_depth = int(params['max_depth']),\n",
    "            min_samples_split = int(params['min_samples_split']),\n",
    "            min_samples_leaf = int(params['min_samples_leaf']),\n",
    "            random_state = 20\n",
    "        )\n",
    "\n",
    "        rf_model.fit(X_train,y_train)\n",
    "\n",
    "        y_pred = rf_model.predict(X_val)\n",
    "\n",
    "        rmse = np.sqrt(mean_squared_error(y_val, y_pred))\n",
    "\n",
    "        mlflow.log_metric(\"rmse\",rmse)\n",
    "\n",
    "    return {'loss':rmse, 'status': STATUS_OK}"
   ]
  },
  {
   "cell_type": "code",
   "execution_count": 15,
   "metadata": {},
   "outputs": [],
   "source": [
    "search_space = {\n",
    "    'n_estimators': hp.quniform('n_estimators',100,150,1),\n",
    "    'max_depth': hp.quniform('max_depth',10,15,1),\n",
    "    'min_samples_split': hp.quniform('min_samples_split',4,10,1),\n",
    "    'min_samples_leaf': hp.quniform('min_samples_leaf',1,3,1)\n",
    "}"
   ]
  },
  {
   "cell_type": "code",
   "execution_count": 16,
   "metadata": {},
   "outputs": [
    {
     "name": "stdout",
     "output_type": "stream",
     "text": [
      "  0%|          | 0/10 [00:00<?, ?trial/s, best loss=?]"
     ]
    },
    {
     "name": "stderr",
     "output_type": "stream",
     "text": [
      "2024/09/23 13:38:09 WARNING mlflow.sklearn: Failed to log training dataset information to MLflow Tracking. Reason: 'numpy.ndarray' object has no attribute 'toarray'\n",
      "\n",
      "2024/09/23 13:38:22 WARNING mlflow.utils.environment: Encountered an unexpected error while inferring pip requirements (model URI: /var/folders/2x/ywqv7yz10h9cq_ql_b4l1vpw0000gn/T/tmp5roxbnee/model/model.pkl, flavor: sklearn). Fall back to return ['scikit-learn==1.5.1', 'cloudpickle==2.0.0']. Set logging level to DEBUG to see the full traceback. \n",
      "\n",
      "2024/09/23 13:38:25 WARNING mlflow.utils.autologging_utils: Encountered unexpected error during sklearn autologging: The following failures occurred while performing one or more logging operations: [MlflowException('Failed to perform one or more operations on the run with ID c8d93606f3eb4c9fa16880915991dda0. Failed operations: [RestException(\"INVALID_PARAMETER_VALUE: Response: {\\'error_code\\': \\'INVALID_PARAMETER_VALUE\\'}\")]')]\n",
      "\n",
      "2024/09/23 13:38:25 INFO mlflow.tracking._tracking_service.client: 🏃 View run silent-shrike-22 at: https://dagshub.com/RenataOrzc/nyc-taxi-time-prediction.mlflow/#/experiments/0/runs/c8d93606f3eb4c9fa16880915991dda0.\n",
      "\n",
      "2024/09/23 13:38:25 INFO mlflow.tracking._tracking_service.client: 🧪 View experiment at: https://dagshub.com/RenataOrzc/nyc-taxi-time-prediction.mlflow/#/experiments/0.\n",
      "\n"
     ]
    },
    {
     "name": "stdout",
     "output_type": "stream",
     "text": [
      " 10%|█         | 1/10 [00:17<02:40, 17.81s/trial, best loss: 5.4014531039870155]"
     ]
    },
    {
     "name": "stderr",
     "output_type": "stream",
     "text": [
      "2024/09/23 13:38:26 WARNING mlflow.sklearn: Failed to log training dataset information to MLflow Tracking. Reason: 'numpy.ndarray' object has no attribute 'toarray'\n",
      "\n",
      "2024/09/23 13:38:37 WARNING mlflow.utils.environment: Encountered an unexpected error while inferring pip requirements (model URI: /var/folders/2x/ywqv7yz10h9cq_ql_b4l1vpw0000gn/T/tmpo1azszs8/model/model.pkl, flavor: sklearn). Fall back to return ['scikit-learn==1.5.1', 'cloudpickle==2.0.0']. Set logging level to DEBUG to see the full traceback. \n",
      "\n",
      "2024/09/23 13:38:40 WARNING mlflow.utils.autologging_utils: Encountered unexpected error during sklearn autologging: The following failures occurred while performing one or more logging operations: [MlflowException('Failed to perform one or more operations on the run with ID c0ef2ba8aae64aa6916d51289d5e33fc. Failed operations: [RestException(\"INVALID_PARAMETER_VALUE: Response: {\\'error_code\\': \\'INVALID_PARAMETER_VALUE\\'}\")]')]\n",
      "\n",
      "2024/09/23 13:38:41 INFO mlflow.tracking._tracking_service.client: 🏃 View run suave-squid-954 at: https://dagshub.com/RenataOrzc/nyc-taxi-time-prediction.mlflow/#/experiments/0/runs/c0ef2ba8aae64aa6916d51289d5e33fc.\n",
      "\n",
      "2024/09/23 13:38:41 INFO mlflow.tracking._tracking_service.client: 🧪 View experiment at: https://dagshub.com/RenataOrzc/nyc-taxi-time-prediction.mlflow/#/experiments/0.\n",
      "\n"
     ]
    },
    {
     "name": "stdout",
     "output_type": "stream",
     "text": [
      " 20%|██        | 2/10 [00:33<02:10, 16.34s/trial, best loss: 5.4014531039870155]"
     ]
    },
    {
     "name": "stderr",
     "output_type": "stream",
     "text": [
      "2024/09/23 13:38:42 WARNING mlflow.sklearn: Failed to log training dataset information to MLflow Tracking. Reason: 'numpy.ndarray' object has no attribute 'toarray'\n",
      "\n",
      "2024/09/23 13:38:51 WARNING mlflow.utils.environment: Encountered an unexpected error while inferring pip requirements (model URI: /var/folders/2x/ywqv7yz10h9cq_ql_b4l1vpw0000gn/T/tmpvhug7p57/model/model.pkl, flavor: sklearn). Fall back to return ['scikit-learn==1.5.1', 'cloudpickle==2.0.0']. Set logging level to DEBUG to see the full traceback. \n",
      "\n",
      "2024/09/23 13:38:54 WARNING mlflow.utils.autologging_utils: Encountered unexpected error during sklearn autologging: The following failures occurred while performing one or more logging operations: [MlflowException('Failed to perform one or more operations on the run with ID 70434557fe07461d9a529b40b8731625. Failed operations: [RestException(\"INVALID_PARAMETER_VALUE: Response: {\\'error_code\\': \\'INVALID_PARAMETER_VALUE\\'}\")]')]\n",
      "\n",
      "2024/09/23 13:38:54 INFO mlflow.tracking._tracking_service.client: 🏃 View run mysterious-slug-683 at: https://dagshub.com/RenataOrzc/nyc-taxi-time-prediction.mlflow/#/experiments/0/runs/70434557fe07461d9a529b40b8731625.\n",
      "\n",
      "2024/09/23 13:38:54 INFO mlflow.tracking._tracking_service.client: 🧪 View experiment at: https://dagshub.com/RenataOrzc/nyc-taxi-time-prediction.mlflow/#/experiments/0.\n",
      "\n"
     ]
    },
    {
     "name": "stdout",
     "output_type": "stream",
     "text": [
      " 30%|███       | 3/10 [00:46<01:45, 15.05s/trial, best loss: 5.4014531039870155]"
     ]
    },
    {
     "name": "stderr",
     "output_type": "stream",
     "text": [
      "2024/09/23 13:38:55 WARNING mlflow.sklearn: Failed to log training dataset information to MLflow Tracking. Reason: 'numpy.ndarray' object has no attribute 'toarray'\n",
      "\n",
      "2024/09/23 13:39:09 WARNING mlflow.utils.environment: Encountered an unexpected error while inferring pip requirements (model URI: /var/folders/2x/ywqv7yz10h9cq_ql_b4l1vpw0000gn/T/tmpiugcukh0/model/model.pkl, flavor: sklearn). Fall back to return ['scikit-learn==1.5.1', 'cloudpickle==2.0.0']. Set logging level to DEBUG to see the full traceback. \n",
      "\n",
      "2024/09/23 13:39:12 WARNING mlflow.utils.autologging_utils: Encountered unexpected error during sklearn autologging: The following failures occurred while performing one or more logging operations: [MlflowException('Failed to perform one or more operations on the run with ID f7782f2baada4bcca792daf8ba8c743e. Failed operations: [RestException(\"INVALID_PARAMETER_VALUE: Response: {\\'error_code\\': \\'INVALID_PARAMETER_VALUE\\'}\")]')]\n",
      "\n",
      "2024/09/23 13:39:13 INFO mlflow.tracking._tracking_service.client: 🏃 View run casual-shark-467 at: https://dagshub.com/RenataOrzc/nyc-taxi-time-prediction.mlflow/#/experiments/0/runs/f7782f2baada4bcca792daf8ba8c743e.\n",
      "\n",
      "2024/09/23 13:39:13 INFO mlflow.tracking._tracking_service.client: 🧪 View experiment at: https://dagshub.com/RenataOrzc/nyc-taxi-time-prediction.mlflow/#/experiments/0.\n",
      "\n"
     ]
    },
    {
     "name": "stdout",
     "output_type": "stream",
     "text": [
      " 40%|████      | 4/10 [01:05<01:38, 16.36s/trial, best loss: 5.385688874799146] "
     ]
    },
    {
     "name": "stderr",
     "output_type": "stream",
     "text": [
      "2024/09/23 13:39:13 WARNING mlflow.sklearn: Failed to log training dataset information to MLflow Tracking. Reason: 'numpy.ndarray' object has no attribute 'toarray'\n",
      "\n",
      "2024/09/23 13:39:24 WARNING mlflow.utils.environment: Encountered an unexpected error while inferring pip requirements (model URI: /var/folders/2x/ywqv7yz10h9cq_ql_b4l1vpw0000gn/T/tmpka5kg49c/model/model.pkl, flavor: sklearn). Fall back to return ['scikit-learn==1.5.1', 'cloudpickle==2.0.0']. Set logging level to DEBUG to see the full traceback. \n",
      "\n",
      "2024/09/23 13:39:26 WARNING mlflow.utils.autologging_utils: Encountered unexpected error during sklearn autologging: The following failures occurred while performing one or more logging operations: [MlflowException('Failed to perform one or more operations on the run with ID 4cee12e9578f452ea75d57e19554290f. Failed operations: [RestException(\"INVALID_PARAMETER_VALUE: Response: {\\'error_code\\': \\'INVALID_PARAMETER_VALUE\\'}\")]')]\n",
      "\n",
      "2024/09/23 13:39:27 INFO mlflow.tracking._tracking_service.client: 🏃 View run lyrical-worm-482 at: https://dagshub.com/RenataOrzc/nyc-taxi-time-prediction.mlflow/#/experiments/0/runs/4cee12e9578f452ea75d57e19554290f.\n",
      "\n",
      "2024/09/23 13:39:27 INFO mlflow.tracking._tracking_service.client: 🧪 View experiment at: https://dagshub.com/RenataOrzc/nyc-taxi-time-prediction.mlflow/#/experiments/0.\n",
      "\n"
     ]
    },
    {
     "name": "stdout",
     "output_type": "stream",
     "text": [
      " 50%|█████     | 5/10 [01:19<01:18, 15.68s/trial, best loss: 5.385688874799146]"
     ]
    },
    {
     "name": "stderr",
     "output_type": "stream",
     "text": [
      "2024/09/23 13:39:28 WARNING mlflow.sklearn: Failed to log training dataset information to MLflow Tracking. Reason: 'numpy.ndarray' object has no attribute 'toarray'\n",
      "\n",
      "2024/09/23 13:39:39 WARNING mlflow.utils.environment: Encountered an unexpected error while inferring pip requirements (model URI: /var/folders/2x/ywqv7yz10h9cq_ql_b4l1vpw0000gn/T/tmpl6t7klrb/model/model.pkl, flavor: sklearn). Fall back to return ['scikit-learn==1.5.1', 'cloudpickle==2.0.0']. Set logging level to DEBUG to see the full traceback. \n",
      "\n",
      "2024/09/23 13:39:42 WARNING mlflow.utils.autologging_utils: Encountered unexpected error during sklearn autologging: The following failures occurred while performing one or more logging operations: [MlflowException('Failed to perform one or more operations on the run with ID 38eb73493748413282aa1ab8cd24b91c. Failed operations: [RestException(\"INVALID_PARAMETER_VALUE: Response: {\\'error_code\\': \\'INVALID_PARAMETER_VALUE\\'}\")]')]\n",
      "\n",
      "2024/09/23 13:39:42 INFO mlflow.tracking._tracking_service.client: 🏃 View run hilarious-ox-370 at: https://dagshub.com/RenataOrzc/nyc-taxi-time-prediction.mlflow/#/experiments/0/runs/38eb73493748413282aa1ab8cd24b91c.\n",
      "\n",
      "2024/09/23 13:39:42 INFO mlflow.tracking._tracking_service.client: 🧪 View experiment at: https://dagshub.com/RenataOrzc/nyc-taxi-time-prediction.mlflow/#/experiments/0.\n",
      "\n"
     ]
    },
    {
     "name": "stdout",
     "output_type": "stream",
     "text": [
      " 60%|██████    | 6/10 [01:34<01:01, 15.49s/trial, best loss: 5.385688874799146]"
     ]
    },
    {
     "name": "stderr",
     "output_type": "stream",
     "text": [
      "2024/09/23 13:39:43 WARNING mlflow.sklearn: Failed to log training dataset information to MLflow Tracking. Reason: 'numpy.ndarray' object has no attribute 'toarray'\n",
      "\n",
      "2024/09/23 13:39:59 WARNING mlflow.utils.environment: Encountered an unexpected error while inferring pip requirements (model URI: /var/folders/2x/ywqv7yz10h9cq_ql_b4l1vpw0000gn/T/tmppcb3fru4/model/model.pkl, flavor: sklearn). Fall back to return ['scikit-learn==1.5.1', 'cloudpickle==2.0.0']. Set logging level to DEBUG to see the full traceback. \n",
      "\n",
      "2024/09/23 13:40:02 WARNING mlflow.utils.autologging_utils: Encountered unexpected error during sklearn autologging: The following failures occurred while performing one or more logging operations: [MlflowException('Failed to perform one or more operations on the run with ID 5df891c1d0b247569de79e3856f4f440. Failed operations: [RestException(\"INVALID_PARAMETER_VALUE: Response: {\\'error_code\\': \\'INVALID_PARAMETER_VALUE\\'}\")]')]\n",
      "\n",
      "2024/09/23 13:40:03 INFO mlflow.tracking._tracking_service.client: 🏃 View run gaudy-elk-524 at: https://dagshub.com/RenataOrzc/nyc-taxi-time-prediction.mlflow/#/experiments/0/runs/5df891c1d0b247569de79e3856f4f440.\n",
      "\n",
      "2024/09/23 13:40:03 INFO mlflow.tracking._tracking_service.client: 🧪 View experiment at: https://dagshub.com/RenataOrzc/nyc-taxi-time-prediction.mlflow/#/experiments/0.\n",
      "\n"
     ]
    },
    {
     "name": "stdout",
     "output_type": "stream",
     "text": [
      " 70%|███████   | 7/10 [01:55<00:51, 17.19s/trial, best loss: 5.385688874799146]"
     ]
    },
    {
     "name": "stderr",
     "output_type": "stream",
     "text": [
      "2024/09/23 13:40:04 WARNING mlflow.sklearn: Failed to log training dataset information to MLflow Tracking. Reason: 'numpy.ndarray' object has no attribute 'toarray'\n",
      "\n",
      "2024/09/23 13:40:13 WARNING mlflow.utils.environment: Encountered an unexpected error while inferring pip requirements (model URI: /var/folders/2x/ywqv7yz10h9cq_ql_b4l1vpw0000gn/T/tmplfw8ltfj/model/model.pkl, flavor: sklearn). Fall back to return ['scikit-learn==1.5.1', 'cloudpickle==2.0.0']. Set logging level to DEBUG to see the full traceback. \n",
      "\n",
      "2024/09/23 13:40:16 WARNING mlflow.utils.autologging_utils: Encountered unexpected error during sklearn autologging: The following failures occurred while performing one or more logging operations: [MlflowException('Failed to perform one or more operations on the run with ID e4cc360eadbb42a4ab4fcc4d82d237e5. Failed operations: [RestException(\"INVALID_PARAMETER_VALUE: Response: {\\'error_code\\': \\'INVALID_PARAMETER_VALUE\\'}\")]')]\n",
      "\n",
      "2024/09/23 13:40:17 INFO mlflow.tracking._tracking_service.client: 🏃 View run flawless-ant-691 at: https://dagshub.com/RenataOrzc/nyc-taxi-time-prediction.mlflow/#/experiments/0/runs/e4cc360eadbb42a4ab4fcc4d82d237e5.\n",
      "\n",
      "2024/09/23 13:40:17 INFO mlflow.tracking._tracking_service.client: 🧪 View experiment at: https://dagshub.com/RenataOrzc/nyc-taxi-time-prediction.mlflow/#/experiments/0.\n",
      "\n"
     ]
    },
    {
     "name": "stdout",
     "output_type": "stream",
     "text": [
      " 80%|████████  | 8/10 [02:08<00:32, 16.08s/trial, best loss: 5.385688874799146]"
     ]
    },
    {
     "name": "stderr",
     "output_type": "stream",
     "text": [
      "2024/09/23 13:40:17 WARNING mlflow.sklearn: Failed to log training dataset information to MLflow Tracking. Reason: 'numpy.ndarray' object has no attribute 'toarray'\n",
      "\n",
      "2024/09/23 13:40:32 WARNING mlflow.utils.environment: Encountered an unexpected error while inferring pip requirements (model URI: /var/folders/2x/ywqv7yz10h9cq_ql_b4l1vpw0000gn/T/tmpro97zjno/model/model.pkl, flavor: sklearn). Fall back to return ['scikit-learn==1.5.1', 'cloudpickle==2.0.0']. Set logging level to DEBUG to see the full traceback. \n",
      "\n",
      "2024/09/23 13:40:34 WARNING mlflow.utils.autologging_utils: Encountered unexpected error during sklearn autologging: The following failures occurred while performing one or more logging operations: [MlflowException('Failed to perform one or more operations on the run with ID 286ec19dc1394eacbb7f7d18be71681b. Failed operations: [RestException(\"INVALID_PARAMETER_VALUE: Response: {\\'error_code\\': \\'INVALID_PARAMETER_VALUE\\'}\")]')]\n",
      "\n",
      "2024/09/23 13:40:35 INFO mlflow.tracking._tracking_service.client: 🏃 View run colorful-snake-386 at: https://dagshub.com/RenataOrzc/nyc-taxi-time-prediction.mlflow/#/experiments/0/runs/286ec19dc1394eacbb7f7d18be71681b.\n",
      "\n",
      "2024/09/23 13:40:35 INFO mlflow.tracking._tracking_service.client: 🧪 View experiment at: https://dagshub.com/RenataOrzc/nyc-taxi-time-prediction.mlflow/#/experiments/0.\n",
      "\n"
     ]
    },
    {
     "name": "stdout",
     "output_type": "stream",
     "text": [
      " 90%|█████████ | 9/10 [02:27<00:16, 16.79s/trial, best loss: 5.384427961181591]"
     ]
    },
    {
     "name": "stderr",
     "output_type": "stream",
     "text": [
      "2024/09/23 13:40:36 WARNING mlflow.sklearn: Failed to log training dataset information to MLflow Tracking. Reason: 'numpy.ndarray' object has no attribute 'toarray'\n",
      "\n",
      "2024/09/23 13:40:49 WARNING mlflow.utils.environment: Encountered an unexpected error while inferring pip requirements (model URI: /var/folders/2x/ywqv7yz10h9cq_ql_b4l1vpw0000gn/T/tmp6q0lw764/model/model.pkl, flavor: sklearn). Fall back to return ['scikit-learn==1.5.1', 'cloudpickle==2.0.0']. Set logging level to DEBUG to see the full traceback. \n",
      "\n",
      "2024/09/23 13:40:52 WARNING mlflow.utils.autologging_utils: Encountered unexpected error during sklearn autologging: The following failures occurred while performing one or more logging operations: [MlflowException('Failed to perform one or more operations on the run with ID c3fed7697eed4feab58e0c0ae93a2a50. Failed operations: [RestException(\"INVALID_PARAMETER_VALUE: Response: {\\'error_code\\': \\'INVALID_PARAMETER_VALUE\\'}\")]')]\n",
      "\n",
      "2024/09/23 13:40:52 INFO mlflow.tracking._tracking_service.client: 🏃 View run masked-sloth-847 at: https://dagshub.com/RenataOrzc/nyc-taxi-time-prediction.mlflow/#/experiments/0/runs/c3fed7697eed4feab58e0c0ae93a2a50.\n",
      "\n",
      "2024/09/23 13:40:52 INFO mlflow.tracking._tracking_service.client: 🧪 View experiment at: https://dagshub.com/RenataOrzc/nyc-taxi-time-prediction.mlflow/#/experiments/0.\n",
      "\n"
     ]
    },
    {
     "name": "stdout",
     "output_type": "stream",
     "text": [
      "100%|██████████| 10/10 [02:44<00:00, 16.49s/trial, best loss: 5.384427961181591]\n"
     ]
    },
    {
     "name": "stderr",
     "output_type": "stream",
     "text": [
      "2024/09/23 13:40:53 INFO mlflow.tracking._tracking_service.client: 🏃 View run Random Forest Tata at: https://dagshub.com/RenataOrzc/nyc-taxi-time-prediction.mlflow/#/experiments/0/runs/40fc056fe94d4d3c8bcd752050cb4a99.\n",
      "2024/09/23 13:40:53 INFO mlflow.tracking._tracking_service.client: 🧪 View experiment at: https://dagshub.com/RenataOrzc/nyc-taxi-time-prediction.mlflow/#/experiments/0.\n"
     ]
    }
   ],
   "source": [
    "with mlflow.start_run(run_name='Random Forest Tata', nested=True):\n",
    "    best_params= fmin(\n",
    "        fn=objective,\n",
    "        space=search_space,\n",
    "        algo=tpe.suggest,\n",
    "        max_evals=10,\n",
    "        trials=Trials()\n",
    "        \n",
    "    )\n",
    "\n",
    "    mlflow.log_params(best_params)"
   ]
  },
  {
   "cell_type": "code",
   "execution_count": 17,
   "metadata": {},
   "outputs": [
    {
     "name": "stderr",
     "output_type": "stream",
     "text": [
      "Registered model 'nyc-taxi-model' already exists. Creating a new version of this model...\n",
      "2024/09/23 13:43:42 INFO mlflow.store.model_registry.abstract_store: Waiting up to 300 seconds for model version to finish creation. Model name: nyc-taxi-model, version 2\n",
      "Created version '2' of model 'nyc-taxi-model'.\n"
     ]
    }
   ],
   "source": [
    "run_id = '40fc056fe94d4d3c8bcd752050cb4a99'\n",
    "run_uri = f\"runs:/{run_id}/model\"\n",
    "\n",
    "result = mlflow.register_model(\n",
    "    model_uri= run_uri,\n",
    "    name='nyc-taxi-model'\n",
    ")"
   ]
  },
  {
   "cell_type": "code",
   "execution_count": null,
   "metadata": {},
   "outputs": [],
   "source": []
  }
 ],
 "metadata": {
  "kernelspec": {
   "display_name": "base",
   "language": "python",
   "name": "python3"
  },
  "language_info": {
   "codemirror_mode": {
    "name": "ipython",
    "version": 3
   },
   "file_extension": ".py",
   "mimetype": "text/x-python",
   "name": "python",
   "nbconvert_exporter": "python",
   "pygments_lexer": "ipython3",
   "version": "3.9.13"
  }
 },
 "nbformat": 4,
 "nbformat_minor": 2
}
